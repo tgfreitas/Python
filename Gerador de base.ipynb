{
 "cells": [
  {
   "cell_type": "code",
   "execution_count": 36,
   "metadata": {},
   "outputs": [],
   "source": [
    "import pa_functions as pa\n",
    "from googleapiclient.discovery import build"
   ]
  },
  {
   "cell_type": "code",
   "execution_count": 37,
   "metadata": {},
   "outputs": [
    {
     "name": "stdout",
     "output_type": "stream",
     "text": [
      "Valid credential created/present at: C:\\Users\\tiago.freitas\\Desktop\\Pyhton\\Google\\token.json\n"
     ]
    }
   ],
   "source": [
    "client_secret = r'C:\\Users\\tiago.freitas\\Desktop\\Pyhton\\Google\\client_secret.json'\n",
    "t_path = r'C:\\Users\\tiago.freitas\\Desktop\\Pyhton\\Google\\token.json'\n",
    "pa.generate_google_token(token_path=t_path, client_secret_path=client_secret)"
   ]
  },
  {
   "cell_type": "code",
   "execution_count": 38,
   "metadata": {},
   "outputs": [],
   "source": [
    "creds = pa.get_creds('token.json')  "
   ]
  },
  {
   "cell_type": "code",
   "execution_count": 41,
   "metadata": {},
   "outputs": [],
   "source": [
    "SPREADSHEET_ID = '1DVimKpBxvLjP6hX2wE-Ksc_TBhq5EorOXOMtQhp4bKw'\n",
    "RANGE_NAME = 'SRA!A1:CA'  "
   ]
  },
  {
   "cell_type": "code",
   "execution_count": null,
   "metadata": {},
   "outputs": [],
   "source": [
    "service = build('sheets', 'v4', credentials=creds)\n",
    "\n",
    "try:\n",
    "    # Chama a API para ler os dados\n",
    "    sheet = service.spreadsheets()\n",
    "    result = sheet.values().get(spreadsheetId=SPREADSHEET_ID, range=RANGE_NAME).execute()\n",
    "    values = result.get('values', [])\n",
    "\n",
    "    if not values:\n",
    "        print('Nenhum dado encontrado.')\n",
    "    else:\n",
    "        for row in values:\n",
    "            print(row)  # Imprime cada linha\n",
    "\n",
    "except Exception as e:\n",
    "    print(f'Ocorreu um erro: {e}')\n"
   ]
  },
  {
   "cell_type": "code",
   "execution_count": null,
   "metadata": {},
   "outputs": [],
   "source": []
  }
 ],
 "metadata": {
  "kernelspec": {
   "display_name": "venv_people_analytics",
   "language": "python",
   "name": "python3"
  },
  "language_info": {
   "codemirror_mode": {
    "name": "ipython",
    "version": 3
   },
   "file_extension": ".py",
   "mimetype": "text/x-python",
   "name": "python",
   "nbconvert_exporter": "python",
   "pygments_lexer": "ipython3",
   "version": "3.12.3"
  }
 },
 "nbformat": 4,
 "nbformat_minor": 2
}
